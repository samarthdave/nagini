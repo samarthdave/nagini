{
 "cells": [
  {
   "cell_type": "markdown",
   "metadata": {},
   "source": [
    "# Problem: Compare two strings as numbers!\n",
    "\n",
    "You are given two non-negative integers in strings.\n",
    "\n",
    "Example: \"1221\" and \"123\"\n",
    "\n",
    "Write a function, larger_than(a, b) which returns True if the first number is larger than the second one.\n",
    "\n",
    "***Solve this problem without converting the strings to numbers!***\n",
    "\n",
    "## Examples:\n",
    "\n",
    "- **larger_than( \"112\", \"111\" )** should return True.\n",
    "- **larger_than( \"525\", \"1111\" )** should return False.\n",
    "- **larger_than( \"11\", \"0\" )** should return True.\n",
    "- **larger_than( \"1\", \"1\" )** should return False."
   ]
  },
  {
   "cell_type": "markdown",
   "metadata": {},
   "source": [
    "### NOTE: Make sure to run your program once you write it :)"
   ]
  },
  {
   "cell_type": "markdown",
   "metadata": {},
   "source": [
    "# Implement your function below."
   ]
  },
  {
   "cell_type": "code",
   "execution_count": null,
   "metadata": {
    "scrolled": true
   },
   "outputs": [],
   "source": [
    "# Remember, you can compare single-character numbers in strings as follows:\n",
    "\"3\" > \"1\""
   ]
  },
  {
   "cell_type": "code",
   "execution_count": 3,
   "metadata": {},
   "outputs": [],
   "source": [
    "# Input:\n",
    "#  a: The first non-negative integer in string. Example: \"123\"\n",
    "#  b: The second non-negative integer in string. Example: \"3344\"\n",
    "# Returns:\n",
    "#  True if a is larger than b.\n",
    "#  False if a is smaller than or equal to b.\n",
    "def larger_than(str_1, str_2):\n",
    "    len_1 = len(str_1)\n",
    "    len_2 = len(str_2)\n",
    "    \n",
    "    if len_1 > len_2:\n",
    "        return True\n",
    "    if len_2 > len_1:\n",
    "        return False\n",
    "    \n",
    "    for i in range(len_1):\n",
    "        loc_1 = str_1[i]\n",
    "        loc_2 = str_2[i]\n",
    "        \n",
    "        if loc_1 > loc_2:\n",
    "            return True\n",
    "        # Next 2 lines are optional since False is ultimately returned\n",
    "        # elif loc_2 > loc_1:\n",
    "        #     return False\n",
    "\n",
    "    return False"
   ]
  },
  {
   "cell_type": "markdown",
   "metadata": {},
   "source": [
    "# Use the code below to test your function."
   ]
  },
  {
   "cell_type": "code",
   "execution_count": 4,
   "metadata": {},
   "outputs": [
    {
     "name": "stdout",
     "output_type": "stream",
     "text": [
      "Is \"112\" larger than \"111\"? (Should be True.)\n",
      "True\n"
     ]
    }
   ],
   "source": [
    "print('Is \"112\" larger than \"111\"? (Should be True.)')\n",
    "print(larger_than( \"112\", \"111\" ))"
   ]
  },
  {
   "cell_type": "code",
   "execution_count": 5,
   "metadata": {},
   "outputs": [
    {
     "name": "stdout",
     "output_type": "stream",
     "text": [
      "Is \"525\" larger than \"1111\"? (Should be False.)\n",
      "False\n"
     ]
    }
   ],
   "source": [
    "print('Is \"525\" larger than \"1111\"? (Should be False.)')\n",
    "print(larger_than( \"525\", \"1111\" ))"
   ]
  },
  {
   "cell_type": "code",
   "execution_count": 6,
   "metadata": {},
   "outputs": [
    {
     "name": "stdout",
     "output_type": "stream",
     "text": [
      "Is \"11\" larger than \"0\"? (Should be True.)\n",
      "True\n"
     ]
    }
   ],
   "source": [
    "print('Is \"11\" larger than \"0\"? (Should be True.)')\n",
    "print(larger_than( \"11\", \"0\" ))"
   ]
  },
  {
   "cell_type": "code",
   "execution_count": 7,
   "metadata": {},
   "outputs": [
    {
     "name": "stdout",
     "output_type": "stream",
     "text": [
      "Is \"1\" larger than \"1\"? (Should be False.)\n",
      "False\n"
     ]
    }
   ],
   "source": [
    "print('Is \"1\" larger than \"1\"? (Should be False.)')\n",
    "print(larger_than( \"1\", \"1\" ))"
   ]
  },
  {
   "cell_type": "code",
   "execution_count": null,
   "metadata": {
    "collapsed": true
   },
   "outputs": [],
   "source": []
  }
 ],
 "metadata": {
  "anaconda-cloud": {},
  "kernelspec": {
   "display_name": "Python 3",
   "language": "python",
   "name": "python3"
  },
  "language_info": {
   "codemirror_mode": {
    "name": "ipython",
    "version": 3
   },
   "file_extension": ".py",
   "mimetype": "text/x-python",
   "name": "python",
   "nbconvert_exporter": "python",
   "pygments_lexer": "ipython3",
   "version": "3.6.5"
  }
 },
 "nbformat": 4,
 "nbformat_minor": 1
}

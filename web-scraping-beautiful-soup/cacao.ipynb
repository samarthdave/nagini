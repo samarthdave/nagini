{
 "cells": [
  {
   "cell_type": "code",
   "execution_count": 1,
   "metadata": {},
   "outputs": [],
   "source": [
    "# From the Codecademy online course\n",
    "# March 23rd\n",
    "# objective:\n",
    "# scrape chocolate data & push to pandas df\n",
    "# extract insights/relationships about cacao/chocolate\n",
    "from bs4 import BeautifulSoup\n",
    "import requests\n",
    "import pandas as pd\n",
    "import matplotlib.pyplot as plt\n",
    "import numpy as np"
   ]
  },
  {
   "cell_type": "code",
   "execution_count": 2,
   "metadata": {},
   "outputs": [],
   "source": [
    "# get URL & make get request\n",
    "base_url = 'https://s3.amazonaws.com/codecademy-content/courses/beautifulsoup/cacao/index.html'\n",
    "resp = requests.get(base_url)\n",
    "\n",
    "# parse & extract table\n",
    "soup = BeautifulSoup(resp.content, 'html.parser')\n",
    "# cacao_table = soup.find('table', { 'id': 'cacaoTable' })"
   ]
  },
  {
   "cell_type": "code",
   "execution_count": 3,
   "metadata": {},
   "outputs": [],
   "source": [
    "# Get ratings w/ HTML:\n",
    "# td class=\"Rating\"\n",
    "ratings = []\n",
    "ratings_soup = soup.find_all('td', { 'class': 'Rating' })\n",
    "\n",
    "i = 0\n",
    "for r in ratings_soup:\n",
    "    i += 1\n",
    "    if i == 1:\n",
    "        continue\n",
    "    datum = float(r.get_text())\n",
    "    ratings.append(datum)"
   ]
  },
  {
   "cell_type": "code",
   "execution_count": 4,
   "metadata": {},
   "outputs": [],
   "source": [
    "# Get companies\n",
    "company_names = []\n",
    "company_names_soup = soup.select('.Company')\n",
    "\n",
    "# counter & loop\n",
    "i = 0\n",
    "for c in company_names_soup:\n",
    "    i += 1\n",
    "    # skip if header\n",
    "    if i == 1: continue\n",
    "    company_names.append(c.get_text())"
   ]
  },
  {
   "cell_type": "code",
   "execution_count": 5,
   "metadata": {},
   "outputs": [],
   "source": [
    "# Get percentages\n",
    "cocao_percents = []\n",
    "cocao_percentage_soup = soup.select('.CocoaPercent')\n",
    "\n",
    "for td in cocao_percentage_soup[1:]:\n",
    "    percent = float(td.get_text().strip('%'))\n",
    "    cocao_percents.append(percent)"
   ]
  },
  {
   "cell_type": "code",
   "execution_count": 6,
   "metadata": {},
   "outputs": [
    {
     "name": "stdout",
     "output_type": "stream",
     "text": [
      "    Company  Rating  CocoaPercentage\n",
      "0  A. Morin    3.75             63.0\n",
      "1  A. Morin    2.75             70.0\n",
      "2  A. Morin    3.00             70.0\n",
      "3  A. Morin    3.50             70.0\n",
      "4  A. Morin    3.50             70.0\n"
     ]
    }
   ],
   "source": [
    "# make DF\n",
    "cacao_compare_template = {\n",
    "    'Company': company_names,\n",
    "    'Rating': ratings,\n",
    "    'CocoaPercentage': cocao_percents\n",
    "}\n",
    "\n",
    "cacao_df = pd.DataFrame.from_dict(cacao_compare_template)\n",
    "print(cacao_df.head())"
   ]
  },
  {
   "cell_type": "code",
   "execution_count": 7,
   "metadata": {},
   "outputs": [
    {
     "name": "stdout",
     "output_type": "stream",
     "text": [
      "Company                     \n",
      "A. Morin                9       4.00\n",
      "                        17      4.00\n",
      "                        20      4.00\n",
      "                        0       3.75\n",
      "                        8       3.75\n",
      "                                ... \n",
      "twenty-four blackbirds  1671    3.50\n",
      "                        1672    3.25\n",
      "                        1669    2.75\n",
      "                        1674    2.75\n",
      "                        1673    2.50\n",
      "Name: Rating, Length: 1548, dtype: float64\n"
     ]
    }
   ],
   "source": [
    "# get the top 10 producers by rating\n",
    "mean_ratings = cacao_df.groupby('Company').Rating\n",
    "ten_best_samples = mean_ratings.nlargest(10)\n",
    "print(ten_best_samples)"
   ]
  },
  {
   "cell_type": "code",
   "execution_count": 8,
   "metadata": {},
   "outputs": [
    {
     "data": {
      "image/png": "[encoded data removed]",
      "text/plain": [
       "<Figure size 432x288 with 1 Axes>"
      ]
     },
     "metadata": {
      "needs_background": "light"
     },
     "output_type": "display_data"
    }
   ],
   "source": [
    "# plot histogram\n",
    "plt.hist(ratings)\n",
    "plt.show()"
   ]
  },
  {
   "cell_type": "code",
   "execution_count": 9,
   "metadata": {},
   "outputs": [
    {
     "data": {
      "image/png": "[encoded data removed]",
      "text/plain": [
       "<Figure size 432x288 with 1 Axes>"
      ]
     },
     "metadata": {
      "needs_background": "light"
     },
     "output_type": "display_data"
    }
   ],
   "source": [
    "# make scatter plot & clear b/c of histogram\n",
    "plt.clf()\n",
    "plt.scatter(cacao_df.CocoaPercentage, cacao_df.Rating)\n",
    "plt.show()"
   ]
  },
  {
   "cell_type": "code",
   "execution_count": 10,
   "metadata": {},
   "outputs": [
    {
     "data": {
      "text/plain": [
       "[<matplotlib.lines.Line2D at 0x7f98e6ab08d0>]"
      ]
     },
     "execution_count": 10,
     "metadata": {},
     "output_type": "execute_result"
    },
    {
     "data": {
      "image/png": "[encoded data removed]",
      "text/plain": [
       "<Figure size 432x288 with 1 Axes>"
      ]
     },
     "metadata": {
      "needs_background": "light"
     },
     "output_type": "display_data"
    }
   ],
   "source": [
    "# find potential correlation\n",
    "z = np.polyfit(cacao_df.CocoaPercentage, cacao_df.Rating, 1)\n",
    "line_function = np.poly1d(z)\n",
    "plt.plot(cacao_df.CocoaPercentage, line_function(cacao_df.CocoaPercentage), \"r--\")"
   ]
  }
 ],
 "metadata": {
  "kernelspec": {
   "display_name": "Python 3",
   "language": "python",
   "name": "python3"
  },
  "language_info": {
   "codemirror_mode": {
    "name": "ipython",
    "version": 3
   },
   "file_extension": ".py",
   "mimetype": "text/x-python",
   "name": "python",
   "nbconvert_exporter": "python",
   "pygments_lexer": "ipython3",
   "version": "3.7.3"
  }
 },
 "nbformat": 4,
 "nbformat_minor": 2
}
